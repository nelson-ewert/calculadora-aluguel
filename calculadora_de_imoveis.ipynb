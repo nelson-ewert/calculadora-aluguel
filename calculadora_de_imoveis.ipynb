{
  "nbformat": 4,
  "nbformat_minor": 0,
  "metadata": {
    "colab": {
      "name": "calculadora-de-imoveis.ipynb",
      "provenance": [],
      "authorship_tag": "ABX9TyOH3JksXmr3O0Ni+rcyxzcp",
      "include_colab_link": true
    },
    "kernelspec": {
      "name": "python3",
      "display_name": "Python 3"
    }
  },
  "cells": [
    {
      "cell_type": "markdown",
      "metadata": {
        "id": "view-in-github",
        "colab_type": "text"
      },
      "source": [
        "<a href=\"https://colab.research.google.com/github/nelson-ewert/calculadora-aluguel/blob/master/calculadora_de_imoveis.ipynb\" target=\"_parent\"><img src=\"https://colab.research.google.com/assets/colab-badge.svg\" alt=\"Open In Colab\"/></a>"
      ]
    },
    {
      "cell_type": "code",
      "metadata": {
        "id": "EcB85pvezeqC",
        "colab_type": "code",
        "colab": {}
      },
      "source": [
        "import requests\n",
        "from bs4 import BeautifulSoup\n",
        "import re\n",
        "import numpy as np\n",
        "import pandas as pd\n",
        "from time import sleep"
      ],
      "execution_count": null,
      "outputs": []
    },
    {
      "cell_type": "code",
      "metadata": {
        "id": "SwvuCYWb0jjq",
        "colab_type": "code",
        "colab": {}
      },
      "source": [
        "def coleta_dados(url, zona):\n",
        "  conteudo = requests.get(url).content\n",
        "  sopa = BeautifulSoup(conteudo)\n",
        "  lista_zonas = []\n",
        "  lista_preços = []\n",
        "  preços = sopa.find_all('span', class_='price-tag-fraction')\n",
        "  for elemento in preços:\n",
        "    p = re.findall('<span class=\"price-tag-fraction\">(.*)</span>', str(elemento))[0]\n",
        "    p = float(p) * 1000\n",
        "    lista_preços.append(p)\n",
        "    lista_zonas.append(zona)\n",
        "\n",
        "  sopa2 = BeautifulSoup(conteudo)\n",
        "  area_e_quartos = sopa2.find_all('ul', class_=\"ui-search-card-attributes ui-search-item__group__element\")\n",
        "  lista_elementos = []\n",
        "  for elemento in area_e_quartos:\n",
        "    lista_elementos.append(elemento.text)\n",
        "  re_quartos = '(.) quarto|quartos'\n",
        "  re_area = '(.*)m²'\n",
        "  lista_quartos = []\n",
        "  lista_area = []\n",
        "  for el in lista_elementos:\n",
        "    quarto = re.findall(re_quartos, str(el))\n",
        "    if quarto != []:\n",
        "      lista_quartos.append(float(quarto[0]))\n",
        "    else:\n",
        "      lista_quartos.append(np.nan)\n",
        "    area = re.findall(re_area, str(el))\n",
        "    if area != []:\n",
        "      area[0] = area[0].replace(\",\",\".\")\n",
        "      lista_area.append(float(area[0]))\n",
        "    else:\n",
        "      lista_area.append(np.nan)\n",
        "\n",
        "  df = pd.DataFrame({'preço': lista_preços, 'quartos': lista_quartos, 'area': lista_area, 'zona': lista_zonas})  \n",
        "  return df"
      ],
      "execution_count": null,
      "outputs": []
    },
    {
      "cell_type": "code",
      "metadata": {
        "id": "LJT0SS9Dzlbg",
        "colab_type": "code",
        "colab": {
          "base_uri": "https://localhost:8080/",
          "height": 289
        },
        "outputId": "2ac2a699-b905-4f60-d151-5d8355756b22"
      },
      "source": [
        "paginas = ['', '_Desde_49', '_Desde_97', '_Desde_145']\n",
        "zonas = ['norte', 'sul', 'leste', 'oeste']\n",
        "\n",
        "dataframes = []\n",
        "\n",
        "for zona in zonas:\n",
        "  for pagina in paginas:\n",
        "    url = f'https://imoveis.mercadolivre.com.br/apartamentos/aluguel/sao-paulo/sao-paulo-zona-{zona}/{pagina}'\n",
        "    print(\"Coletando dados de: \", url)\n",
        "    df = coleta_dados(url, zona)\n",
        "    dataframes.append(df)\n",
        "    sleep(2)"
      ],
      "execution_count": null,
      "outputs": [
        {
          "output_type": "stream",
          "text": [
            "Coletando dados de:  https://imoveis.mercadolivre.com.br/apartamentos/aluguel/sao-paulo/sao-paulo-zona-norte/\n",
            "Coletando dados de:  https://imoveis.mercadolivre.com.br/apartamentos/aluguel/sao-paulo/sao-paulo-zona-norte/_Desde_49\n",
            "Coletando dados de:  https://imoveis.mercadolivre.com.br/apartamentos/aluguel/sao-paulo/sao-paulo-zona-norte/_Desde_97\n",
            "Coletando dados de:  https://imoveis.mercadolivre.com.br/apartamentos/aluguel/sao-paulo/sao-paulo-zona-norte/_Desde_145\n",
            "Coletando dados de:  https://imoveis.mercadolivre.com.br/apartamentos/aluguel/sao-paulo/sao-paulo-zona-sul/\n",
            "Coletando dados de:  https://imoveis.mercadolivre.com.br/apartamentos/aluguel/sao-paulo/sao-paulo-zona-sul/_Desde_49\n",
            "Coletando dados de:  https://imoveis.mercadolivre.com.br/apartamentos/aluguel/sao-paulo/sao-paulo-zona-sul/_Desde_97\n",
            "Coletando dados de:  https://imoveis.mercadolivre.com.br/apartamentos/aluguel/sao-paulo/sao-paulo-zona-sul/_Desde_145\n",
            "Coletando dados de:  https://imoveis.mercadolivre.com.br/apartamentos/aluguel/sao-paulo/sao-paulo-zona-leste/\n",
            "Coletando dados de:  https://imoveis.mercadolivre.com.br/apartamentos/aluguel/sao-paulo/sao-paulo-zona-leste/_Desde_49\n",
            "Coletando dados de:  https://imoveis.mercadolivre.com.br/apartamentos/aluguel/sao-paulo/sao-paulo-zona-leste/_Desde_97\n",
            "Coletando dados de:  https://imoveis.mercadolivre.com.br/apartamentos/aluguel/sao-paulo/sao-paulo-zona-leste/_Desde_145\n",
            "Coletando dados de:  https://imoveis.mercadolivre.com.br/apartamentos/aluguel/sao-paulo/sao-paulo-zona-oeste/\n",
            "Coletando dados de:  https://imoveis.mercadolivre.com.br/apartamentos/aluguel/sao-paulo/sao-paulo-zona-oeste/_Desde_49\n",
            "Coletando dados de:  https://imoveis.mercadolivre.com.br/apartamentos/aluguel/sao-paulo/sao-paulo-zona-oeste/_Desde_97\n",
            "Coletando dados de:  https://imoveis.mercadolivre.com.br/apartamentos/aluguel/sao-paulo/sao-paulo-zona-oeste/_Desde_145\n"
          ],
          "name": "stdout"
        }
      ]
    },
    {
      "cell_type": "code",
      "metadata": {
        "id": "wSEmiy0Q_rVU",
        "colab_type": "code",
        "colab": {}
      },
      "source": [
        "df_ML = pd.concat(dataframes, ignore_index=True)"
      ],
      "execution_count": null,
      "outputs": []
    },
    {
      "cell_type": "code",
      "metadata": {
        "id": "ecsprS1g_8Oc",
        "colab_type": "code",
        "colab": {
          "base_uri": "https://localhost:8080/",
          "height": 204
        },
        "outputId": "18a1b3da-27cf-401d-f0c1-71ccc3d8d3e2"
      },
      "source": [
        "df_ML.info()"
      ],
      "execution_count": null,
      "outputs": [
        {
          "output_type": "stream",
          "text": [
            "<class 'pandas.core.frame.DataFrame'>\n",
            "RangeIndex: 768 entries, 0 to 767\n",
            "Data columns (total 4 columns):\n",
            " #   Column   Non-Null Count  Dtype  \n",
            "---  ------   --------------  -----  \n",
            " 0   preço    768 non-null    float64\n",
            " 1   quartos  767 non-null    float64\n",
            " 2   area     767 non-null    float64\n",
            " 3   zona     768 non-null    object \n",
            "dtypes: float64(3), object(1)\n",
            "memory usage: 24.1+ KB\n"
          ],
          "name": "stdout"
        }
      ]
    },
    {
      "cell_type": "code",
      "metadata": {
        "id": "S6AA5ZukEHov",
        "colab_type": "code",
        "colab": {}
      },
      "source": [
        ""
      ],
      "execution_count": null,
      "outputs": []
    }
  ]
}