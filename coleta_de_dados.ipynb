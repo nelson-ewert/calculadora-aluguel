{
  "nbformat": 4,
  "nbformat_minor": 0,
  "metadata": {
    "colab": {
      "name": "coleta-de-dados.ipynb",
      "provenance": []
    },
    "kernelspec": {
      "name": "python3",
      "display_name": "Python 3"
    }
  },
  "cells": [
    {
      "cell_type": "code",
      "metadata": {
        "id": "EcB85pvezeqC"
      },
      "source": [
        "import requests\n",
        "from bs4 import BeautifulSoup\n",
        "import re\n",
        "import numpy as np\n",
        "import pandas as pd\n",
        "from time import sleep"
      ],
      "execution_count": 2,
      "outputs": []
    },
    {
      "cell_type": "code",
      "metadata": {
        "id": "SwvuCYWb0jjq"
      },
      "source": [
        "def coleta_dados(url, zona):\n",
        "  conteudo = requests.get(url).content\n",
        "  sopa = BeautifulSoup(conteudo)\n",
        "  lista_zonas = []\n",
        "  lista_preços = []\n",
        "  preços = sopa.find_all('span', class_='price-tag-fraction')\n",
        "  for elemento in preços:\n",
        "    p = re.findall('<span class=\"price-tag-fraction\">(.*)</span>', str(elemento))[0]\n",
        "    p = float(p.replace(\".\", \"\"))\n",
        "    lista_preços.append(p)\n",
        "    lista_zonas.append(zona)\n",
        "\n",
        "  sopa2 = BeautifulSoup(conteudo)\n",
        "  area_e_quartos = sopa2.find_all('ul', class_=\"ui-search-card-attributes ui-search-item__group__element shops__items-group-details\")\n",
        "  lista_elementos = []\n",
        "  for elemento in area_e_quartos:\n",
        "    lista_elementos.append(elemento.text)\n",
        "  re_quartos = '(.) quarto|quartos'\n",
        "  re_area = '(.*)m²'\n",
        "  lista_quartos = []\n",
        "  lista_area = []\n",
        "  for el in lista_elementos:\n",
        "    quarto = re.findall(re_quartos, str(el))\n",
        "    if quarto != []:\n",
        "      lista_quartos.append(float(quarto[0]))\n",
        "    else:\n",
        "      lista_quartos.append(np.nan)\n",
        "    area = re.findall(re_area, str(el))\n",
        "    if area != []:\n",
        "      a = area[0].replace(\".\", \"\").replace(\",\",\".\")\n",
        "      lista_area.append(int(a))\n",
        "    else:\n",
        "      lista_area.append(np.nan)\n",
        "\n",
        "\n",
        "  sopa3 = BeautifulSoup(conteudo)\n",
        "  tipos = sopa3.find_all('h2', class_=\"ui-search-item__title ui-search-item__group__element shops__items-group-details shops__item-title\")\n",
        "  lista_tipo = []\n",
        "  for el in tipos:\n",
        "    tipo = re.findall('Casa|Apartamento', str(el))\n",
        "    if len(tipo) > 0:\n",
        "      lista_tipo.append(tipo[0])\n",
        "    else:\n",
        "      lista_tipo.append(np.nan)\n",
        "\n",
        "  df = pd.DataFrame({'preco': lista_preços, 'quartos': lista_quartos, 'area': lista_area, 'zona': lista_zonas, \"tipo\": lista_tipo})  \n",
        "  return df"
      ],
      "execution_count": 1,
      "outputs": []
    },
    {
      "cell_type": "code",
      "metadata": {
        "id": "LJT0SS9Dzlbg",
        "colab": {
          "base_uri": "https://localhost:8080/"
        },
        "outputId": "3d96018d-f819-44cb-cf95-6d624fcdcd4b"
      },
      "source": [
        "paginas = [\"\"] \n",
        "num_paginas = 20\n",
        "for p in range(1, num_paginas):\n",
        "  paginas.append(\"_Desde_\"+str(1+48*p))\n",
        "\n",
        "zonas = ['sul', 'norte', 'leste', 'oeste']\n",
        "\n",
        "dataframes = []\n",
        "\n",
        "for zona in zonas:\n",
        "  for pagina in paginas:\n",
        "    url = f'https://imoveis.mercadolivre.com.br/apartamentos/aluguel/sao-paulo/sao-paulo-zona-{zona}/{pagina}'\n",
        "    print(\"Coletando dados de: \", url)\n",
        "    df = coleta_dados(url, zona)\n",
        "    dataframes.append(df)\n",
        "    sleep(2)"
      ],
      "execution_count": null,
      "outputs": [
        {
          "output_type": "stream",
          "name": "stdout",
          "text": [
            "Coletando dados de:  https://imoveis.mercadolivre.com.br/apartamentos/aluguel/sao-paulo/sao-paulo-zona-sul/\n",
            "Coletando dados de:  https://imoveis.mercadolivre.com.br/apartamentos/aluguel/sao-paulo/sao-paulo-zona-sul/_Desde_49\n",
            "Coletando dados de:  https://imoveis.mercadolivre.com.br/apartamentos/aluguel/sao-paulo/sao-paulo-zona-sul/_Desde_97\n",
            "Coletando dados de:  https://imoveis.mercadolivre.com.br/apartamentos/aluguel/sao-paulo/sao-paulo-zona-sul/_Desde_145\n",
            "Coletando dados de:  https://imoveis.mercadolivre.com.br/apartamentos/aluguel/sao-paulo/sao-paulo-zona-sul/_Desde_193\n",
            "Coletando dados de:  https://imoveis.mercadolivre.com.br/apartamentos/aluguel/sao-paulo/sao-paulo-zona-sul/_Desde_241\n",
            "Coletando dados de:  https://imoveis.mercadolivre.com.br/apartamentos/aluguel/sao-paulo/sao-paulo-zona-sul/_Desde_289\n",
            "Coletando dados de:  https://imoveis.mercadolivre.com.br/apartamentos/aluguel/sao-paulo/sao-paulo-zona-sul/_Desde_337\n",
            "Coletando dados de:  https://imoveis.mercadolivre.com.br/apartamentos/aluguel/sao-paulo/sao-paulo-zona-sul/_Desde_385\n",
            "Coletando dados de:  https://imoveis.mercadolivre.com.br/apartamentos/aluguel/sao-paulo/sao-paulo-zona-sul/_Desde_433\n",
            "Coletando dados de:  https://imoveis.mercadolivre.com.br/apartamentos/aluguel/sao-paulo/sao-paulo-zona-sul/_Desde_481\n",
            "Coletando dados de:  https://imoveis.mercadolivre.com.br/apartamentos/aluguel/sao-paulo/sao-paulo-zona-sul/_Desde_529\n"
          ]
        }
      ]
    },
    {
      "cell_type": "code",
      "metadata": {
        "id": "wSEmiy0Q_rVU"
      },
      "source": [
        "df = pd.concat(dataframes, ignore_index=True)"
      ],
      "execution_count": null,
      "outputs": []
    },
    {
      "cell_type": "code",
      "metadata": {
        "id": "ecsprS1g_8Oc",
        "colab": {
          "base_uri": "https://localhost:8080/",
          "height": 204
        },
        "outputId": "70f5ec1f-7654-41a2-f8e0-715a9fb34085"
      },
      "source": [
        "df.info()"
      ],
      "execution_count": null,
      "outputs": [
        {
          "output_type": "stream",
          "text": [
            "<class 'pandas.core.frame.DataFrame'>\n",
            "RangeIndex: 768 entries, 0 to 767\n",
            "Data columns (total 4 columns):\n",
            " #   Column   Non-Null Count  Dtype  \n",
            "---  ------   --------------  -----  \n",
            " 0   preço    768 non-null    float64\n",
            " 1   quartos  767 non-null    float64\n",
            " 2   area     767 non-null    float64\n",
            " 3   zona     768 non-null    object \n",
            "dtypes: float64(3), object(1)\n",
            "memory usage: 24.1+ KB\n"
          ],
          "name": "stdout"
        }
      ]
    },
    {
      "cell_type": "code",
      "source": [
        "df.describe"
      ],
      "metadata": {
        "id": "oUcXCtyfSIdh"
      },
      "execution_count": null,
      "outputs": []
    },
    {
      "cell_type": "code",
      "metadata": {
        "id": "S6AA5ZukEHov"
      },
      "source": [
        "df.to_csv('dados_ML.csv', index = False)"
      ],
      "execution_count": null,
      "outputs": []
    },
    {
      "cell_type": "code",
      "source": [],
      "metadata": {
        "id": "CrRAaE-VSKj6"
      },
      "execution_count": null,
      "outputs": []
    }
  ]
}
